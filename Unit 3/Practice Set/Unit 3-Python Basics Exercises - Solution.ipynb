{
 "cells": [
  {
   "cell_type": "markdown",
   "id": "28775234-ef83-4d19-be1e-ea3b8a57e6d4",
   "metadata": {},
   "source": [
    "![image](https://firebasestorage.googleapis.com/v0/b/disneyplus-clone-bcfd1.appspot.com/o/Asset%203.png?alt=media&token=16e7e86a-7588-4092-a6a3-b8d5d6968c56)"
   ]
  },
  {
   "cell_type": "markdown",
   "id": "2f89f71d-9559-4886-ad5a-2783d3eab662",
   "metadata": {},
   "source": [
    "# Unit 3:\n",
    "## Python Basics Exercises\n",
    "We've explored the foundational elements of Python, including variables, data types, operators, and the principles of precedence and associativity. We also covered various methods for taking user input and displaying output. These exercises are designed to assess your understanding of these core concepts and to build your confidence as you continue your learning journey. As I always say, keep coding, keep practicing and have patience."
   ]
  },
  {
   "cell_type": "markdown",
   "id": "f8ecd263-0c0a-4e0d-9b9b-409f528cd558",
   "metadata": {},
   "source": [
    "#### 1. WAPP to initialize two integers (10 and 25) to a variable and print the result after addition, subtraction, multiplication and division"
   ]
  },
  {
   "cell_type": "code",
   "execution_count": 1,
   "id": "213984b9-ef46-4d26-a8eb-acf925bc57f8",
   "metadata": {},
   "outputs": [
    {
     "name": "stdout",
     "output_type": "stream",
     "text": [
      "35\n",
      "-15\n",
      "250\n",
      "0.4\n"
     ]
    }
   ],
   "source": [
    "# Write your code here\n",
    "a = 10\n",
    "b = 25\n",
    "print(a+b)\n",
    "print(a-b)\n",
    "print(a*b)\n",
    "print(a/b)"
   ]
  },
  {
   "cell_type": "markdown",
   "id": "0425705f-b42b-46ff-9b91-5127783cfc4b",
   "metadata": {},
   "source": [
    "<hr/>"
   ]
  },
  {
   "cell_type": "markdown",
   "id": "c60bef0c-5f76-44b2-afd4-dbbf5b3ef331",
   "metadata": {},
   "source": [
    "#### 2. WAPP to print compted kinetic energy by the formula:\n",
    "$$\n",
    "K.E. = \\frac{1}{2}mv^2 \n",
    "$$\n",
    "**where m = 5 kg and v = 10m/sec**"
   ]
  },
  {
   "cell_type": "code",
   "execution_count": 3,
   "id": "b2e690ff-6293-49c4-be5a-3d9c4b07ab48",
   "metadata": {},
   "outputs": [
    {
     "name": "stdout",
     "output_type": "stream",
     "text": [
      "250.0\n"
     ]
    }
   ],
   "source": [
    "# Write your code here\n",
    "m = 5\n",
    "v = 10\n",
    "ke = (m*v**2)/2\n",
    "print(ke)"
   ]
  },
  {
   "cell_type": "markdown",
   "id": "fa65c081-0db0-4198-985e-57fd0126efbf",
   "metadata": {},
   "source": [
    "<hr/>"
   ]
  },
  {
   "cell_type": "markdown",
   "id": "1239f7e4-9374-4c38-8b5f-83ec630e6bdc",
   "metadata": {},
   "source": [
    "#### 3. WAPP to print \"Hello\" **20** times. **DO NOT USE print() 20 TIMES. BE SMART.**"
   ]
  },
  {
   "cell_type": "code",
   "execution_count": 5,
   "id": "932a44f4-587d-4202-9e6b-31262578824f",
   "metadata": {},
   "outputs": [
    {
     "name": "stdout",
     "output_type": "stream",
     "text": [
      "Hello\n",
      "Hello\n",
      "Hello\n",
      "Hello\n",
      "Hello\n",
      "Hello\n",
      "Hello\n",
      "Hello\n",
      "Hello\n",
      "Hello\n",
      "Hello\n",
      "Hello\n",
      "Hello\n",
      "Hello\n",
      "Hello\n",
      "Hello\n",
      "Hello\n",
      "Hello\n",
      "Hello\n",
      "Hello\n",
      "\n"
     ]
    }
   ],
   "source": [
    "# Write your code here\n",
    "print(\"Hello\\n\"*20)"
   ]
  },
  {
   "cell_type": "markdown",
   "id": "f0ae88be-a7f1-4726-a1e2-e5ea61f189ec",
   "metadata": {},
   "source": [
    "<hr/>"
   ]
  },
  {
   "cell_type": "markdown",
   "id": "55888c78-4317-46f4-a6dc-1d60a6302b9d",
   "metadata": {},
   "source": [
    "#### 4. WAPP to print this statement:\n",
    "##### It's Raining and I have an \"Umbrella\"."
   ]
  },
  {
   "cell_type": "code",
   "execution_count": 6,
   "id": "c1e8d8c8-8f74-4b8d-bdc8-d79f222e2065",
   "metadata": {},
   "outputs": [
    {
     "name": "stdout",
     "output_type": "stream",
     "text": [
      "It's Raining nad I have an \"Umbrella\"\n"
     ]
    }
   ],
   "source": [
    "# Write your code here\n",
    "print(\"It's Raining nad I have an \\\"Umbrella\\\"\")"
   ]
  },
  {
   "cell_type": "markdown",
   "id": "6793d7c6-06df-4baf-bf7d-44670ddb665b",
   "metadata": {},
   "source": [
    "<hr/>"
   ]
  },
  {
   "cell_type": "markdown",
   "id": "b9edda0c-53ec-4f5e-8c4a-08fb115f5c90",
   "metadata": {},
   "source": [
    "#### 5. WAPP to find and print Area of a EquilateralTriangle\n",
    "##### Equilateral Triangle Area:\n",
    "$$\n",
    "\\text{Area} = \\frac{\\sqrt{3}}{4} \\times a^2\n",
    "$$\n",
    "\n",
    "##### Isosceles Triangle Area:\n",
    "$$\n",
    "\\text{Area} = \\frac{b}{4} \\times \\sqrt{4a^2 - b^2}\n",
    "$$\n",
    "\n",
    "##### Scalene Triangle Area:\n",
    "$$\n",
    "\\text{Area} = \\sqrt{s(s-a)(s-b)(s-c)}\n",
    "$$\n",
    "$$\n",
    "\\text{where } s = \\frac{a+b+c}{2}\n",
    "$$"
   ]
  },
  {
   "cell_type": "code",
   "execution_count": 10,
   "id": "1e0292a6-8625-4b44-9f18-84de85aa5a9f",
   "metadata": {},
   "outputs": [
    {
     "name": "stdout",
     "output_type": "stream",
     "text": [
      "43.30127018922193\n",
      "24.206145913796355\n",
      "22.44994432064365\n"
     ]
    }
   ],
   "source": [
    "# Write your code here\n",
    "a = 10\n",
    "eta = (3**(1/2)*a**2)/4\n",
    "print(eta)\n",
    "\n",
    "b = 5\n",
    "ita = (b/4) * ((4*a**2) - b**2)**(1/2)\n",
    "print(ita)\n",
    "\n",
    "c = 13\n",
    "s = (a+b+c)/2\n",
    "sta = (s*(s-a)*(s-b)*(s-c))**(1/2)\n",
    "print(sta)"
   ]
  },
  {
   "cell_type": "code",
   "execution_count": null,
   "id": "e0f4e38e-ab70-48bb-892c-5e8243520872",
   "metadata": {},
   "outputs": [],
   "source": []
  },
  {
   "cell_type": "markdown",
   "id": "c350892a-ebc8-468b-835f-cac58c1930c7",
   "metadata": {},
   "source": [
    "<hr/>"
   ]
  },
  {
   "cell_type": "markdown",
   "id": "15c248b3-ff8e-4213-be81-5e8ffe033062",
   "metadata": {},
   "source": [
    "#### 6. WAPP to find the area, perimeter and diagonal of a rectangle. Take Length as 12 and breadth as 5\n",
    "##### Area of a Rectangle:\n",
    "$$\n",
    "\\text{Area} = l \\times b\n",
    "$$\n",
    "\n",
    "##### Perimeter of a Rectangle:\n",
    "$$\n",
    "\\text{Perimeter} = 2(l + b)\n",
    "$$\n",
    "\n",
    "##### Diagonal of a Rectangle:\n",
    "$$\n",
    "\\text{Diagonal} = \\sqrt{l^2 + b^2}\n",
    "$$"
   ]
  },
  {
   "cell_type": "code",
   "execution_count": 11,
   "id": "0bf61115-65e9-46f9-8ee4-2d6c870fb490",
   "metadata": {},
   "outputs": [
    {
     "name": "stdout",
     "output_type": "stream",
     "text": [
      "60\n",
      "34\n",
      "13.0\n"
     ]
    }
   ],
   "source": [
    "# Write your code here\n",
    "l = 12\n",
    "b = 5\n",
    "area = l * b\n",
    "perimeter = 2 * (l + b)\n",
    "diagonal = ((l**2) + (b ** 2))**(1/2)\n",
    "print(area)\n",
    "print(perimeter)\n",
    "print(diagonal)"
   ]
  },
  {
   "cell_type": "markdown",
   "id": "43575a7e-8f05-41c0-9855-049d5bdba18e",
   "metadata": {},
   "source": [
    "<hr/>"
   ]
  },
  {
   "cell_type": "markdown",
   "id": "e329435f-2baf-4dc6-831f-e322c6f70d7c",
   "metadata": {},
   "source": [
    "#### 7. WAPP to find the area and circumference of a circular ring whose outer and inner radii are 14 and 7.\n",
    "##### Area of the Ring:\n",
    "$$\n",
    "\\text{Area} = \\pi \\times (R^2 - r^2)\n",
    "$$\n",
    "\n",
    "##### Circumference of the Ring:\n",
    "$$\n",
    "\\text{Circumference} = 2\\pi \\times (R + r)\n",
    "$$"
   ]
  },
  {
   "cell_type": "code",
   "execution_count": 13,
   "id": "e4b096cd-2631-45e9-b1bf-eecc3be69abf",
   "metadata": {},
   "outputs": [
    {
     "name": "stdout",
     "output_type": "stream",
     "text": [
      "461.58000000000004\n",
      "131.88\n"
     ]
    }
   ],
   "source": [
    "# Write your code here\n",
    "R = 14\n",
    "r = 7\n",
    "pi = 3.14\n",
    "area = pi * (R ** 2 - r ** 2)\n",
    "circ = 2 * pi * (R+r)\n",
    "print(area)\n",
    "print(circ)"
   ]
  },
  {
   "cell_type": "markdown",
   "id": "3c179a5c-b702-490e-bf47-42ade7e6d7af",
   "metadata": {},
   "source": [
    "<hr/>"
   ]
  },
  {
   "cell_type": "markdown",
   "id": "fe9b2fac-48d4-42e1-8c4f-ea838cdf44db",
   "metadata": {},
   "source": [
    "#### 8. WAPP to find the difference between Simple Interest and Compound Interest when Principle is ₹1000, Rate is 10% and Time is 5 years.\n",
    "\n",
    "##### Simple Interest (SI):\n",
    "$$\n",
    "\\text{SI} = \\frac{P \\times R \\times T}{100}\n",
    "$$\n",
    "\n",
    "##### Compound Interest (CI):\n",
    "\n",
    "$$\n",
    "\\text{CI} = P \\left[\\left(1 + \\frac{R}{100}\\right)^T - 1\\right]\n",
    "$$"
   ]
  },
  {
   "cell_type": "code",
   "execution_count": 15,
   "id": "b703e9d8-2619-4653-9421-f562821b1a87",
   "metadata": {},
   "outputs": [
    {
     "name": "stdout",
     "output_type": "stream",
     "text": [
      "500.0\n",
      "610.5100000000006\n"
     ]
    }
   ],
   "source": [
    "# Write your code here\n",
    "p = 1000\n",
    "r = 10\n",
    "t = 5\n",
    "si = (p*r*t)/100\n",
    "ci = p*((1+(r/100))**t-1)\n",
    "print(si)\n",
    "print(ci)"
   ]
  },
  {
   "cell_type": "markdown",
   "id": "491c1d57-4730-4a2c-a138-8311683d9b57",
   "metadata": {},
   "source": [
    "<hr/>"
   ]
  },
  {
   "cell_type": "markdown",
   "id": "b76099ed-94a2-4de7-a4dd-3828c4be2e12",
   "metadata": {},
   "source": [
    "#### 9. WAPP to find and print profit percent where selling price is ₹ 341 and Cost Price is ₹ 300.\n",
    "\n",
    "##### Profit Percentage Formula:\n",
    "$$\n",
    "\\text{Profit \\%} = \\frac{\\text{SP} - \\text{CP}}{\\text{CP}} \\times 100\n",
    "$$\n"
   ]
  },
  {
   "cell_type": "code",
   "execution_count": 17,
   "id": "4ff855a3-32e6-4487-acd8-ad87bb0ebbbb",
   "metadata": {},
   "outputs": [
    {
     "name": "stdout",
     "output_type": "stream",
     "text": [
      "13.666666666666666\n"
     ]
    }
   ],
   "source": [
    "# Write your code here\n",
    "sp = 341\n",
    "cp = 300\n",
    "p = sp-cp\n",
    "pp = (p/cp)*100\n",
    "print(pp)"
   ]
  },
  {
   "cell_type": "markdown",
   "id": "5789e835-c1b9-4e81-a578-062963cfd2e7",
   "metadata": {},
   "source": [
    "<hr/>"
   ]
  },
  {
   "cell_type": "markdown",
   "id": "cf63e3c6-0c73-429f-904f-8214942ac3f4",
   "metadata": {},
   "source": [
    "#### 10. WAPP to find and print displacement by using given formula where initial velocity is 20 m/s, time is 10s, and acceleration is 5 $m/s^{2}$. \n",
    "\n",
    "$$\n",
    "s = ut + \\frac{1}{2}at^2\n",
    "$$\n",
    "---\n",
    "$$\n",
    "where: \\\\\n",
    "s = \\text{Displacement} \\\\\n",
    "•u = \\text{Initial velocity} \\\\\n",
    "•a = \\text{Acceleration} \\\\\n",
    "•t = \\text{Time}\n",
    "$$\n",
    "\n",
    "\n",
    "\n"
   ]
  },
  {
   "cell_type": "code",
   "execution_count": 18,
   "id": "0a635bfe-d48e-4d04-ae95-96560ae7a908",
   "metadata": {},
   "outputs": [
    {
     "name": "stdout",
     "output_type": "stream",
     "text": [
      "450.0\n"
     ]
    }
   ],
   "source": [
    "# Write your code here\n",
    "u = 20\n",
    "t = 10\n",
    "a = 5\n",
    "s = u*t + (1/2)*a*t**2\n",
    "print(s)"
   ]
  },
  {
   "cell_type": "markdown",
   "id": "e9c2264f-7bda-402d-9e0b-440798f7b73b",
   "metadata": {},
   "source": [
    "<hr/>"
   ]
  },
  {
   "cell_type": "markdown",
   "id": "47f32d32-ab04-4729-a01c-4a90c168dbf1",
   "metadata": {},
   "source": [
    "#### 11. WAPP to display **3488** sec as hours, minutes and seconds in this format **(hh:mm:ss)**"
   ]
  },
  {
   "cell_type": "code",
   "execution_count": 20,
   "id": "ea87bee1-0de8-4d39-8b17-500411e88579",
   "metadata": {},
   "outputs": [
    {
     "name": "stdout",
     "output_type": "stream",
     "text": [
      "0:58:8\n"
     ]
    }
   ],
   "source": [
    "# Write your code here\n",
    "s =  3488\n",
    "h = s//3600 # converting s to hr\n",
    "s %= 3600 # Get the remaining seconds after calculating hours\n",
    "m = s // 60 # Calculate the number of minutes\n",
    "s %= 60 # Get the remaining seconds after calculating minutes\n",
    "\n",
    "print(f\"{h}:{m}:{s}\")"
   ]
  },
  {
   "cell_type": "markdown",
   "id": "c36fde0c-f649-42ba-83d2-c6f68a9ad3ac",
   "metadata": {},
   "source": [
    "<hr/>"
   ]
  },
  {
   "cell_type": "markdown",
   "id": "5ae93296-1885-4a7b-a62b-c113c791e065",
   "metadata": {},
   "source": [
    "#### 12. WAPP to prompt user to input **divisor** and **dividend**. Then find **remainder** and **quotient** of the number."
   ]
  },
  {
   "cell_type": "code",
   "execution_count": 24,
   "id": "05a13896-7825-4585-814d-8c31a7edc0fe",
   "metadata": {},
   "outputs": [
    {
     "name": "stdin",
     "output_type": "stream",
     "text": [
      "Divisor:  10\n",
      "Dividend:  3\n"
     ]
    },
    {
     "name": "stdout",
     "output_type": "stream",
     "text": [
      "Quotient:  3\n",
      "Remainder:  1\n"
     ]
    }
   ],
   "source": [
    "# Write your code here\n",
    "divisor = int(input(\"Divisor: \"))\n",
    "dividend = int(input(\"Dividend: \"))\n",
    "\n",
    "print(\"Quotient: \", divisor//dividend)\n",
    "print(\"Remainder: \", divisor%dividend)"
   ]
  },
  {
   "cell_type": "markdown",
   "id": "32fe6f05-ef43-4f17-a741-a36eb1894f61",
   "metadata": {},
   "source": [
    "<hr/>"
   ]
  },
  {
   "cell_type": "markdown",
   "id": "23a98954-ede8-4a45-92c4-1b75152fae33",
   "metadata": {},
   "source": [
    "#### 13. WAPP to input your name and age and print it in following format:\n",
    "##### I am [NAME] and my age is [AGE]."
   ]
  },
  {
   "cell_type": "code",
   "execution_count": 30,
   "id": "c077a6fe-5b86-4d40-8d85-c8f23375ec04",
   "metadata": {},
   "outputs": [
    {
     "name": "stdin",
     "output_type": "stream",
     "text": [
      "Please enter your name:  Amar Jyoti\n",
      "Please enter your age:  12\n"
     ]
    },
    {
     "name": "stdout",
     "output_type": "stream",
     "text": [
      "I am Amar Jyoti and my age is 12\n",
      "I am Amar Jyoti and my age is 12\n",
      "I am Amar Jyoti and my age is 12\n"
     ]
    }
   ],
   "source": [
    "# Write your code here\n",
    "name = input(\"Please enter your name: \")\n",
    "age = int(input(\"Please enter your age: \"))\n",
    "print(f\"I am {name} and my age is {age}\")\n",
    "print(\"I am {} and my age is {}\".format(name, age))\n",
    "print(\"I am %s and my age is %d\" %(name, age))"
   ]
  },
  {
   "cell_type": "markdown",
   "id": "5edade7b-e0e7-4d8d-b84f-8b7e9e3a5fd9",
   "metadata": {},
   "source": [
    "<hr/>"
   ]
  },
  {
   "cell_type": "markdown",
   "id": "db382e42-196d-46b5-abea-e9e123c3cd47",
   "metadata": {},
   "source": [
    "#### 14. WAPP that converts temperature from Celsius to Fahrenheit.\n",
    "$$\n",
    "F = \\frac{9}{5}C + 32\n",
    "$$\n",
    "$$\n",
    "where: \\\\\n",
    "C = \\text{Temperature in Celsius} \\\\\n",
    "F = \\text{Temperature in Fahrenheit}\n",
    "$$"
   ]
  },
  {
   "cell_type": "code",
   "execution_count": 31,
   "id": "5dcd5eae-b029-4bff-8bea-fb407451bd72",
   "metadata": {},
   "outputs": [
    {
     "name": "stdin",
     "output_type": "stream",
     "text": [
      "Celcius:  100\n"
     ]
    },
    {
     "name": "stdout",
     "output_type": "stream",
     "text": [
      "212.0\n"
     ]
    }
   ],
   "source": [
    "# Write your code here\n",
    "c = int(input(\"Celcius: \"))\n",
    "f = (9/5)* c + 32\n",
    "print(f)"
   ]
  },
  {
   "cell_type": "markdown",
   "id": "610e8554-ea9c-4620-859f-b5d6ddeff01b",
   "metadata": {},
   "source": [
    "<hr/>"
   ]
  },
  {
   "cell_type": "markdown",
   "id": "51e3aad3-8404-426c-9087-6720cf1e5813",
   "metadata": {},
   "source": [
    "#### 15. There are 3 cows in a farm. Second cow gives **1.5 times** the milk of first cow and the third cow gives **2 times** the milk of the second cow. WAPP to print the total amount of milk that will accumulate if first cow gives **10 liter** of milk."
   ]
  },
  {
   "cell_type": "code",
   "execution_count": 33,
   "id": "7f944fe3-2645-4deb-b45c-4e4ea9cd83c1",
   "metadata": {},
   "outputs": [
    {
     "name": "stdout",
     "output_type": "stream",
     "text": [
      "Cow A gives: 10 L Milk\n",
      "Cow B gives: 15.0 L Milk\n",
      "Cow C gives: 30.0 L Milk\n"
     ]
    }
   ],
   "source": [
    "# Write your code here\n",
    "a = 10\n",
    "b = 1.5 * a\n",
    "c = 2 * b\n",
    "print(f\"Cow A gives: {a} L Milk\\nCow B gives: {b} L Milk\\nCow C gives: {c} L Milk\")"
   ]
  },
  {
   "cell_type": "markdown",
   "id": "2ab5567b-03e0-497a-b571-7c9666d36b8b",
   "metadata": {},
   "source": [
    "# THE END"
   ]
  }
 ],
 "metadata": {
  "kernelspec": {
   "display_name": "Python 3 (ipykernel)",
   "language": "python",
   "name": "python3"
  },
  "language_info": {
   "codemirror_mode": {
    "name": "ipython",
    "version": 3
   },
   "file_extension": ".py",
   "mimetype": "text/x-python",
   "name": "python",
   "nbconvert_exporter": "python",
   "pygments_lexer": "ipython3",
   "version": "3.12.2"
  }
 },
 "nbformat": 4,
 "nbformat_minor": 5
}
